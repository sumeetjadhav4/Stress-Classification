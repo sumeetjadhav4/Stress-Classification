{
 "cells": [
  {
   "cell_type": "markdown",
   "id": "d986232a",
   "metadata": {},
   "source": [
    "# STRESS CLASSIFICATION"
   ]
  },
  {
   "cell_type": "code",
   "execution_count": 22,
   "id": "a82383c4",
   "metadata": {},
   "outputs": [],
   "source": [
    "#importing libraries \n",
    "\n",
    "import pandas as pd \n",
    "import numpy as np\n",
    "import matplotlib.pyplot as plt\n",
    "import seaborn as sns\n",
    "from matplotlib import style\n",
    "style.use('ggplot')"
   ]
  },
  {
   "cell_type": "markdown",
   "id": "22fae8ff",
   "metadata": {},
   "source": [
    "Reading train and test dataset"
   ]
  },
  {
   "cell_type": "code",
   "execution_count": 23,
   "id": "3879f427",
   "metadata": {},
   "outputs": [],
   "source": [
    "train = pd.read_csv(\"C:\\BIA\\Capstone Project\\dreaddit-train.csv\")\n",
    "test = pd.read_csv(\"C:\\BIA\\Capstone Project\\dreaddit-test.csv\")"
   ]
  },
  {
   "cell_type": "markdown",
   "id": "4270f2e2",
   "metadata": {},
   "source": [
    "# Label\n",
    "\n",
    "1 = stress\n",
    "\n",
    "0 = no stress"
   ]
  },
  {
   "cell_type": "code",
   "execution_count": 3,
   "id": "c8e97759",
   "metadata": {
    "scrolled": true
   },
   "outputs": [
    {
     "data": {
      "text/html": [
       "<div>\n",
       "<style scoped>\n",
       "    .dataframe tbody tr th:only-of-type {\n",
       "        vertical-align: middle;\n",
       "    }\n",
       "\n",
       "    .dataframe tbody tr th {\n",
       "        vertical-align: top;\n",
       "    }\n",
       "\n",
       "    .dataframe thead th {\n",
       "        text-align: right;\n",
       "    }\n",
       "</style>\n",
       "<table border=\"1\" class=\"dataframe\">\n",
       "  <thead>\n",
       "    <tr style=\"text-align: right;\">\n",
       "      <th></th>\n",
       "      <th>subreddit</th>\n",
       "      <th>post_id</th>\n",
       "      <th>sentence_range</th>\n",
       "      <th>text</th>\n",
       "      <th>id</th>\n",
       "      <th>label</th>\n",
       "      <th>confidence</th>\n",
       "      <th>social_timestamp</th>\n",
       "      <th>social_karma</th>\n",
       "      <th>syntax_ari</th>\n",
       "      <th>...</th>\n",
       "      <th>lex_dal_min_pleasantness</th>\n",
       "      <th>lex_dal_min_activation</th>\n",
       "      <th>lex_dal_min_imagery</th>\n",
       "      <th>lex_dal_avg_activation</th>\n",
       "      <th>lex_dal_avg_imagery</th>\n",
       "      <th>lex_dal_avg_pleasantness</th>\n",
       "      <th>social_upvote_ratio</th>\n",
       "      <th>social_num_comments</th>\n",
       "      <th>syntax_fk_grade</th>\n",
       "      <th>sentiment</th>\n",
       "    </tr>\n",
       "  </thead>\n",
       "  <tbody>\n",
       "    <tr>\n",
       "      <th>0</th>\n",
       "      <td>ptsd</td>\n",
       "      <td>8601tu</td>\n",
       "      <td>(15, 20)</td>\n",
       "      <td>He said he had not felt that way before, sugge...</td>\n",
       "      <td>33181</td>\n",
       "      <td>1</td>\n",
       "      <td>0.8</td>\n",
       "      <td>1521614353</td>\n",
       "      <td>5</td>\n",
       "      <td>1.806818</td>\n",
       "      <td>...</td>\n",
       "      <td>1.000</td>\n",
       "      <td>1.1250</td>\n",
       "      <td>1.0</td>\n",
       "      <td>1.77000</td>\n",
       "      <td>1.52211</td>\n",
       "      <td>1.89556</td>\n",
       "      <td>0.86</td>\n",
       "      <td>1</td>\n",
       "      <td>3.253573</td>\n",
       "      <td>-0.002742</td>\n",
       "    </tr>\n",
       "    <tr>\n",
       "      <th>1</th>\n",
       "      <td>assistance</td>\n",
       "      <td>8lbrx9</td>\n",
       "      <td>(0, 5)</td>\n",
       "      <td>Hey there r/assistance, Not sure if this is th...</td>\n",
       "      <td>2606</td>\n",
       "      <td>0</td>\n",
       "      <td>1.0</td>\n",
       "      <td>1527009817</td>\n",
       "      <td>4</td>\n",
       "      <td>9.429737</td>\n",
       "      <td>...</td>\n",
       "      <td>1.125</td>\n",
       "      <td>1.0000</td>\n",
       "      <td>1.0</td>\n",
       "      <td>1.69586</td>\n",
       "      <td>1.62045</td>\n",
       "      <td>1.88919</td>\n",
       "      <td>0.65</td>\n",
       "      <td>2</td>\n",
       "      <td>8.828316</td>\n",
       "      <td>0.292857</td>\n",
       "    </tr>\n",
       "    <tr>\n",
       "      <th>2</th>\n",
       "      <td>ptsd</td>\n",
       "      <td>9ch1zh</td>\n",
       "      <td>(15, 20)</td>\n",
       "      <td>My mom then hit me with the newspaper and it s...</td>\n",
       "      <td>38816</td>\n",
       "      <td>1</td>\n",
       "      <td>0.8</td>\n",
       "      <td>1535935605</td>\n",
       "      <td>2</td>\n",
       "      <td>7.769821</td>\n",
       "      <td>...</td>\n",
       "      <td>1.000</td>\n",
       "      <td>1.1429</td>\n",
       "      <td>1.0</td>\n",
       "      <td>1.83088</td>\n",
       "      <td>1.58108</td>\n",
       "      <td>1.85828</td>\n",
       "      <td>0.67</td>\n",
       "      <td>0</td>\n",
       "      <td>7.841667</td>\n",
       "      <td>0.011894</td>\n",
       "    </tr>\n",
       "    <tr>\n",
       "      <th>3</th>\n",
       "      <td>relationships</td>\n",
       "      <td>7rorpp</td>\n",
       "      <td>[5, 10]</td>\n",
       "      <td>until i met my new boyfriend, he is amazing, h...</td>\n",
       "      <td>239</td>\n",
       "      <td>1</td>\n",
       "      <td>0.6</td>\n",
       "      <td>1516429555</td>\n",
       "      <td>0</td>\n",
       "      <td>2.667798</td>\n",
       "      <td>...</td>\n",
       "      <td>1.000</td>\n",
       "      <td>1.1250</td>\n",
       "      <td>1.0</td>\n",
       "      <td>1.75356</td>\n",
       "      <td>1.52114</td>\n",
       "      <td>1.98848</td>\n",
       "      <td>0.50</td>\n",
       "      <td>5</td>\n",
       "      <td>4.104027</td>\n",
       "      <td>0.141671</td>\n",
       "    </tr>\n",
       "    <tr>\n",
       "      <th>4</th>\n",
       "      <td>survivorsofabuse</td>\n",
       "      <td>9p2gbc</td>\n",
       "      <td>[0, 5]</td>\n",
       "      <td>October is Domestic Violence Awareness Month a...</td>\n",
       "      <td>1421</td>\n",
       "      <td>1</td>\n",
       "      <td>0.8</td>\n",
       "      <td>1539809005</td>\n",
       "      <td>24</td>\n",
       "      <td>7.554238</td>\n",
       "      <td>...</td>\n",
       "      <td>1.000</td>\n",
       "      <td>1.1250</td>\n",
       "      <td>1.0</td>\n",
       "      <td>1.77644</td>\n",
       "      <td>1.64872</td>\n",
       "      <td>1.81456</td>\n",
       "      <td>1.00</td>\n",
       "      <td>1</td>\n",
       "      <td>7.910952</td>\n",
       "      <td>-0.204167</td>\n",
       "    </tr>\n",
       "  </tbody>\n",
       "</table>\n",
       "<p>5 rows × 116 columns</p>\n",
       "</div>"
      ],
      "text/plain": [
       "          subreddit post_id sentence_range  \\\n",
       "0              ptsd  8601tu       (15, 20)   \n",
       "1        assistance  8lbrx9         (0, 5)   \n",
       "2              ptsd  9ch1zh       (15, 20)   \n",
       "3     relationships  7rorpp        [5, 10]   \n",
       "4  survivorsofabuse  9p2gbc         [0, 5]   \n",
       "\n",
       "                                                text     id  label  \\\n",
       "0  He said he had not felt that way before, sugge...  33181      1   \n",
       "1  Hey there r/assistance, Not sure if this is th...   2606      0   \n",
       "2  My mom then hit me with the newspaper and it s...  38816      1   \n",
       "3  until i met my new boyfriend, he is amazing, h...    239      1   \n",
       "4  October is Domestic Violence Awareness Month a...   1421      1   \n",
       "\n",
       "   confidence  social_timestamp  social_karma  syntax_ari  ...  \\\n",
       "0         0.8        1521614353             5    1.806818  ...   \n",
       "1         1.0        1527009817             4    9.429737  ...   \n",
       "2         0.8        1535935605             2    7.769821  ...   \n",
       "3         0.6        1516429555             0    2.667798  ...   \n",
       "4         0.8        1539809005            24    7.554238  ...   \n",
       "\n",
       "   lex_dal_min_pleasantness  lex_dal_min_activation  lex_dal_min_imagery  \\\n",
       "0                     1.000                  1.1250                  1.0   \n",
       "1                     1.125                  1.0000                  1.0   \n",
       "2                     1.000                  1.1429                  1.0   \n",
       "3                     1.000                  1.1250                  1.0   \n",
       "4                     1.000                  1.1250                  1.0   \n",
       "\n",
       "   lex_dal_avg_activation  lex_dal_avg_imagery  lex_dal_avg_pleasantness  \\\n",
       "0                 1.77000              1.52211                   1.89556   \n",
       "1                 1.69586              1.62045                   1.88919   \n",
       "2                 1.83088              1.58108                   1.85828   \n",
       "3                 1.75356              1.52114                   1.98848   \n",
       "4                 1.77644              1.64872                   1.81456   \n",
       "\n",
       "   social_upvote_ratio  social_num_comments  syntax_fk_grade  sentiment  \n",
       "0                 0.86                    1         3.253573  -0.002742  \n",
       "1                 0.65                    2         8.828316   0.292857  \n",
       "2                 0.67                    0         7.841667   0.011894  \n",
       "3                 0.50                    5         4.104027   0.141671  \n",
       "4                 1.00                    1         7.910952  -0.204167  \n",
       "\n",
       "[5 rows x 116 columns]"
      ]
     },
     "execution_count": 3,
     "metadata": {},
     "output_type": "execute_result"
    }
   ],
   "source": [
    "train.head()"
   ]
  },
  {
   "cell_type": "code",
   "execution_count": 24,
   "id": "2bea3748",
   "metadata": {},
   "outputs": [],
   "source": [
    "#We merged the two files.\n",
    "\n",
    "df = pd.concat([train,test],axis=0,ignore_index=True)"
   ]
  },
  {
   "cell_type": "code",
   "execution_count": 25,
   "id": "8c1fd9d8",
   "metadata": {},
   "outputs": [
    {
     "data": {
      "text/plain": [
       "(3553, 116)"
      ]
     },
     "execution_count": 25,
     "metadata": {},
     "output_type": "execute_result"
    }
   ],
   "source": [
    "#after merged how many rows and columns are there\n",
    "\n",
    "df.shape"
   ]
  },
  {
   "cell_type": "markdown",
   "id": "4596dcd5",
   "metadata": {},
   "source": [
    " # Exploratory Data Analysis"
   ]
  },
  {
   "cell_type": "code",
   "execution_count": 26,
   "id": "588600c6",
   "metadata": {
    "scrolled": true
   },
   "outputs": [
    {
     "data": {
      "text/html": [
       "<div>\n",
       "<style scoped>\n",
       "    .dataframe tbody tr th:only-of-type {\n",
       "        vertical-align: middle;\n",
       "    }\n",
       "\n",
       "    .dataframe tbody tr th {\n",
       "        vertical-align: top;\n",
       "    }\n",
       "\n",
       "    .dataframe thead th {\n",
       "        text-align: right;\n",
       "    }\n",
       "</style>\n",
       "<table border=\"1\" class=\"dataframe\">\n",
       "  <thead>\n",
       "    <tr style=\"text-align: right;\">\n",
       "      <th></th>\n",
       "      <th>subreddit</th>\n",
       "      <th>post_id</th>\n",
       "      <th>sentence_range</th>\n",
       "      <th>text</th>\n",
       "      <th>id</th>\n",
       "      <th>label</th>\n",
       "      <th>confidence</th>\n",
       "      <th>social_timestamp</th>\n",
       "      <th>social_karma</th>\n",
       "      <th>syntax_ari</th>\n",
       "      <th>...</th>\n",
       "      <th>lex_dal_min_pleasantness</th>\n",
       "      <th>lex_dal_min_activation</th>\n",
       "      <th>lex_dal_min_imagery</th>\n",
       "      <th>lex_dal_avg_activation</th>\n",
       "      <th>lex_dal_avg_imagery</th>\n",
       "      <th>lex_dal_avg_pleasantness</th>\n",
       "      <th>social_upvote_ratio</th>\n",
       "      <th>social_num_comments</th>\n",
       "      <th>syntax_fk_grade</th>\n",
       "      <th>sentiment</th>\n",
       "    </tr>\n",
       "  </thead>\n",
       "  <tbody>\n",
       "    <tr>\n",
       "      <th>0</th>\n",
       "      <td>ptsd</td>\n",
       "      <td>8601tu</td>\n",
       "      <td>(15, 20)</td>\n",
       "      <td>He said he had not felt that way before, sugge...</td>\n",
       "      <td>33181</td>\n",
       "      <td>1</td>\n",
       "      <td>0.8</td>\n",
       "      <td>1.521614e+09</td>\n",
       "      <td>5</td>\n",
       "      <td>1.806818</td>\n",
       "      <td>...</td>\n",
       "      <td>1.000</td>\n",
       "      <td>1.1250</td>\n",
       "      <td>1.0</td>\n",
       "      <td>1.77000</td>\n",
       "      <td>1.52211</td>\n",
       "      <td>1.89556</td>\n",
       "      <td>0.86</td>\n",
       "      <td>1</td>\n",
       "      <td>3.253573</td>\n",
       "      <td>-0.002742</td>\n",
       "    </tr>\n",
       "    <tr>\n",
       "      <th>1</th>\n",
       "      <td>assistance</td>\n",
       "      <td>8lbrx9</td>\n",
       "      <td>(0, 5)</td>\n",
       "      <td>Hey there r/assistance, Not sure if this is th...</td>\n",
       "      <td>2606</td>\n",
       "      <td>0</td>\n",
       "      <td>1.0</td>\n",
       "      <td>1.527010e+09</td>\n",
       "      <td>4</td>\n",
       "      <td>9.429737</td>\n",
       "      <td>...</td>\n",
       "      <td>1.125</td>\n",
       "      <td>1.0000</td>\n",
       "      <td>1.0</td>\n",
       "      <td>1.69586</td>\n",
       "      <td>1.62045</td>\n",
       "      <td>1.88919</td>\n",
       "      <td>0.65</td>\n",
       "      <td>2</td>\n",
       "      <td>8.828316</td>\n",
       "      <td>0.292857</td>\n",
       "    </tr>\n",
       "    <tr>\n",
       "      <th>2</th>\n",
       "      <td>ptsd</td>\n",
       "      <td>9ch1zh</td>\n",
       "      <td>(15, 20)</td>\n",
       "      <td>My mom then hit me with the newspaper and it s...</td>\n",
       "      <td>38816</td>\n",
       "      <td>1</td>\n",
       "      <td>0.8</td>\n",
       "      <td>1.535936e+09</td>\n",
       "      <td>2</td>\n",
       "      <td>7.769821</td>\n",
       "      <td>...</td>\n",
       "      <td>1.000</td>\n",
       "      <td>1.1429</td>\n",
       "      <td>1.0</td>\n",
       "      <td>1.83088</td>\n",
       "      <td>1.58108</td>\n",
       "      <td>1.85828</td>\n",
       "      <td>0.67</td>\n",
       "      <td>0</td>\n",
       "      <td>7.841667</td>\n",
       "      <td>0.011894</td>\n",
       "    </tr>\n",
       "    <tr>\n",
       "      <th>3</th>\n",
       "      <td>relationships</td>\n",
       "      <td>7rorpp</td>\n",
       "      <td>[5, 10]</td>\n",
       "      <td>until i met my new boyfriend, he is amazing, h...</td>\n",
       "      <td>239</td>\n",
       "      <td>1</td>\n",
       "      <td>0.6</td>\n",
       "      <td>1.516430e+09</td>\n",
       "      <td>0</td>\n",
       "      <td>2.667798</td>\n",
       "      <td>...</td>\n",
       "      <td>1.000</td>\n",
       "      <td>1.1250</td>\n",
       "      <td>1.0</td>\n",
       "      <td>1.75356</td>\n",
       "      <td>1.52114</td>\n",
       "      <td>1.98848</td>\n",
       "      <td>0.50</td>\n",
       "      <td>5</td>\n",
       "      <td>4.104027</td>\n",
       "      <td>0.141671</td>\n",
       "    </tr>\n",
       "    <tr>\n",
       "      <th>4</th>\n",
       "      <td>survivorsofabuse</td>\n",
       "      <td>9p2gbc</td>\n",
       "      <td>[0, 5]</td>\n",
       "      <td>October is Domestic Violence Awareness Month a...</td>\n",
       "      <td>1421</td>\n",
       "      <td>1</td>\n",
       "      <td>0.8</td>\n",
       "      <td>1.539809e+09</td>\n",
       "      <td>24</td>\n",
       "      <td>7.554238</td>\n",
       "      <td>...</td>\n",
       "      <td>1.000</td>\n",
       "      <td>1.1250</td>\n",
       "      <td>1.0</td>\n",
       "      <td>1.77644</td>\n",
       "      <td>1.64872</td>\n",
       "      <td>1.81456</td>\n",
       "      <td>1.00</td>\n",
       "      <td>1</td>\n",
       "      <td>7.910952</td>\n",
       "      <td>-0.204167</td>\n",
       "    </tr>\n",
       "  </tbody>\n",
       "</table>\n",
       "<p>5 rows × 116 columns</p>\n",
       "</div>"
      ],
      "text/plain": [
       "          subreddit post_id sentence_range  \\\n",
       "0              ptsd  8601tu       (15, 20)   \n",
       "1        assistance  8lbrx9         (0, 5)   \n",
       "2              ptsd  9ch1zh       (15, 20)   \n",
       "3     relationships  7rorpp        [5, 10]   \n",
       "4  survivorsofabuse  9p2gbc         [0, 5]   \n",
       "\n",
       "                                                text     id  label  \\\n",
       "0  He said he had not felt that way before, sugge...  33181      1   \n",
       "1  Hey there r/assistance, Not sure if this is th...   2606      0   \n",
       "2  My mom then hit me with the newspaper and it s...  38816      1   \n",
       "3  until i met my new boyfriend, he is amazing, h...    239      1   \n",
       "4  October is Domestic Violence Awareness Month a...   1421      1   \n",
       "\n",
       "   confidence  social_timestamp  social_karma  syntax_ari  ...  \\\n",
       "0         0.8      1.521614e+09             5    1.806818  ...   \n",
       "1         1.0      1.527010e+09             4    9.429737  ...   \n",
       "2         0.8      1.535936e+09             2    7.769821  ...   \n",
       "3         0.6      1.516430e+09             0    2.667798  ...   \n",
       "4         0.8      1.539809e+09            24    7.554238  ...   \n",
       "\n",
       "   lex_dal_min_pleasantness  lex_dal_min_activation  lex_dal_min_imagery  \\\n",
       "0                     1.000                  1.1250                  1.0   \n",
       "1                     1.125                  1.0000                  1.0   \n",
       "2                     1.000                  1.1429                  1.0   \n",
       "3                     1.000                  1.1250                  1.0   \n",
       "4                     1.000                  1.1250                  1.0   \n",
       "\n",
       "   lex_dal_avg_activation  lex_dal_avg_imagery  lex_dal_avg_pleasantness  \\\n",
       "0                 1.77000              1.52211                   1.89556   \n",
       "1                 1.69586              1.62045                   1.88919   \n",
       "2                 1.83088              1.58108                   1.85828   \n",
       "3                 1.75356              1.52114                   1.98848   \n",
       "4                 1.77644              1.64872                   1.81456   \n",
       "\n",
       "   social_upvote_ratio  social_num_comments  syntax_fk_grade  sentiment  \n",
       "0                 0.86                    1         3.253573  -0.002742  \n",
       "1                 0.65                    2         8.828316   0.292857  \n",
       "2                 0.67                    0         7.841667   0.011894  \n",
       "3                 0.50                    5         4.104027   0.141671  \n",
       "4                 1.00                    1         7.910952  -0.204167  \n",
       "\n",
       "[5 rows x 116 columns]"
      ]
     },
     "execution_count": 26,
     "metadata": {},
     "output_type": "execute_result"
    }
   ],
   "source": [
    "df.head()"
   ]
  },
  {
   "cell_type": "code",
   "execution_count": 7,
   "id": "5cad12c5",
   "metadata": {},
   "outputs": [
    {
     "data": {
      "text/plain": [
       "Index(['subreddit', 'post_id', 'sentence_range', 'text', 'id', 'label',\n",
       "       'confidence', 'social_timestamp', 'social_karma', 'syntax_ari',\n",
       "       ...\n",
       "       'lex_dal_min_pleasantness', 'lex_dal_min_activation',\n",
       "       'lex_dal_min_imagery', 'lex_dal_avg_activation', 'lex_dal_avg_imagery',\n",
       "       'lex_dal_avg_pleasantness', 'social_upvote_ratio',\n",
       "       'social_num_comments', 'syntax_fk_grade', 'sentiment'],\n",
       "      dtype='object', length=116)"
      ]
     },
     "execution_count": 7,
     "metadata": {},
     "output_type": "execute_result"
    }
   ],
   "source": [
    "#checking columns\n",
    "\n",
    "df.columns"
   ]
  },
  {
   "cell_type": "code",
   "execution_count": 8,
   "id": "e7614983",
   "metadata": {},
   "outputs": [
    {
     "name": "stdout",
     "output_type": "stream",
     "text": [
      "<class 'pandas.core.frame.DataFrame'>\n",
      "RangeIndex: 3553 entries, 0 to 3552\n",
      "Columns: 116 entries, subreddit to sentiment\n",
      "dtypes: float64(107), int64(5), object(4)\n",
      "memory usage: 3.1+ MB\n"
     ]
    }
   ],
   "source": [
    "df.info()"
   ]
  },
  {
   "cell_type": "code",
   "execution_count": 9,
   "id": "a4f53960",
   "metadata": {},
   "outputs": [
    {
     "data": {
      "text/plain": [
       "subreddit         label\n",
       "anxiety           1        416\n",
       "ptsd              1        414\n",
       "relationships     0        387\n",
       "                  1        307\n",
       "ptsd              0        297\n",
       "domesticviolence  1        249\n",
       "anxiety           0        234\n",
       "assistance        0        229\n",
       "survivorsofabuse  0        172\n",
       "                  1        143\n",
       "homeless          0        139\n",
       "domesticviolence  0        139\n",
       "assistance        1        126\n",
       "homeless          1         81\n",
       "almosthomeless    1         59\n",
       "stress            1         45\n",
       "almosthomeless    0         40\n",
       "stress            0         33\n",
       "food_pantry       0         26\n",
       "                  1         17\n",
       "dtype: int64"
      ]
     },
     "execution_count": 9,
     "metadata": {},
     "output_type": "execute_result"
    }
   ],
   "source": [
    "df[['subreddit','label']].value_counts()"
   ]
  },
  {
   "cell_type": "code",
   "execution_count": 10,
   "id": "a735bc54",
   "metadata": {},
   "outputs": [
    {
     "data": {
      "text/plain": [
       "subreddit                   0\n",
       "post_id                     0\n",
       "sentence_range              0\n",
       "text                        0\n",
       "id                          0\n",
       "                           ..\n",
       "lex_dal_avg_pleasantness    0\n",
       "social_upvote_ratio         0\n",
       "social_num_comments         0\n",
       "syntax_fk_grade             0\n",
       "sentiment                   0\n",
       "Length: 116, dtype: int64"
      ]
     },
     "execution_count": 10,
     "metadata": {},
     "output_type": "execute_result"
    }
   ],
   "source": [
    "#checking null values\n",
    "\n",
    "df.isnull().sum()"
   ]
  },
  {
   "cell_type": "code",
   "execution_count": 11,
   "id": "be864637",
   "metadata": {},
   "outputs": [
    {
     "data": {
      "text/plain": [
       "array(['He said he had not felt that way before, suggeted I go rest and so ..TRIGGER AHEAD IF YOUI\\'RE A HYPOCONDRIAC LIKE ME: i decide to look up \"feelings of doom\" in hopes of maybe getting sucked into some rabbit hole of ludicrous conspiracy, a stupid \"are you psychic\" test or new age b.s., something I could even laugh at down the road. No, I ended up reading that this sense of doom can be indicative of various health ailments; one of which I am prone to.. So on top of my \"doom\" to my gloom..I am now f\\'n worried about my heart. I do happen to have a physical in 48 hours.',\n",
       "       \"Hey there r/assistance, Not sure if this is the right place to post this.. but here goes =) I'm currently a student intern at Sandia National Labs and working on a survey to help improve our marketing outreach efforts at the many schools we recruit at around the country. We're looking for current undergrad/grad STEM students so if you're a STEM student or know STEM students, I would greatly appreciate if you can help take or pass along this short survey. As a thank you, everyone who helps take the survey will be entered in to a drawing for chance to win one of three $50 Amazon gcs.\",\n",
       "       'My mom then hit me with the newspaper and it shocked me that she would do this, she knows I don\\'t like play hitting, smacking, striking, hitting or violence of any sort on my person. Do I send out this vibe asking for it from the universe? Then yesterday I decided to take my friend to go help another \"friend\" move to a new place. While we were driving the friend we are moving strikes me on my shoulder. And I address it immediately because this is the 4th time I have told him not to do these things, then my other friend who is driving nearly gets into an collision with another car i think because he was high on marijuana and the friend we are moving in the backseat is like \"you have to understand I was just trying to get your attention\" you know the thing 5 year olds do to get peoples attention by smacking them, this guy is in his 60\\'s.',\n",
       "       ...,\n",
       "       'Furthermore, I told him before we got really serious that I have anxiety and depression, and if he can’t handle that then I’ll understand if we end things. But *he* chose to stay with me and help me if I wanted it. Honestly I’m just tired of defending myself to him after this fight. I shouldn’t have to. And he kept threatening to break up; then why don’t you do it?',\n",
       "       \"Here's the link to my amazon wish list where the two items are: <url> If the link doesn't work, let me know. The extra $1.25 an hour doesn't seem like much but I'm the sole supporter at the moment for a family of 7 and it's going to make a small, but huge difference for us. Please and thank you!\",\n",
       "       \"How can I keep us protected? They have already been told they are unwelcome but the person we live with tried sneaking them in while we were sleeping. I have a child at home and need to keep him protected. We cannot leave, we don't have anywhere to go, nor the money to move at the moment. What are our options here?\"],\n",
       "      dtype=object)"
      ]
     },
     "execution_count": 11,
     "metadata": {},
     "output_type": "execute_result"
    }
   ],
   "source": [
    "#checking unique values in text column\n",
    "\n",
    "df[\"text\"].unique()"
   ]
  },
  {
   "cell_type": "code",
   "execution_count": 27,
   "id": "ff050485",
   "metadata": {},
   "outputs": [],
   "source": [
    "#import textblob for processing textual data\n",
    "\n",
    "from textblob import TextBlob"
   ]
  },
  {
   "cell_type": "code",
   "execution_count": 28,
   "id": "4e9ec00e",
   "metadata": {},
   "outputs": [
    {
     "data": {
      "text/plain": [
       "1.0"
      ]
     },
     "execution_count": 28,
     "metadata": {},
     "output_type": "execute_result"
    }
   ],
   "source": [
    "#We find the positive or negative of the words.\n",
    "\n",
    "TextBlob(\"the best\").polarity "
   ]
  },
  {
   "cell_type": "code",
   "execution_count": 14,
   "id": "c2bb7369",
   "metadata": {},
   "outputs": [
    {
     "data": {
      "text/plain": [
       "Sentiment(polarity=1.0, subjectivity=0.3)"
      ]
     },
     "execution_count": 14,
     "metadata": {},
     "output_type": "execute_result"
    }
   ],
   "source": [
    "# we are checking postive, negative sentiment and subjetivity\n",
    "#polarity score -1.0 (most negative) to 1.0 (most positive), with 0 indicating a neutral sentiment.\n",
    "#The subjectivity score ranges from 0.0 (most objective) to 1.0 (most subjective)\n",
    "\n",
    "TextBlob(\"the best\").sentiment"
   ]
  },
  {
   "cell_type": "code",
   "execution_count": 29,
   "id": "e7ee64d7",
   "metadata": {},
   "outputs": [],
   "source": [
    "#defining a function to detect sentiments\n",
    "\n",
    "def detect_sentiment(text):\n",
    "    return TextBlob(text).sentiment.polarity"
   ]
  },
  {
   "cell_type": "code",
   "execution_count": 37,
   "id": "dcc12c63",
   "metadata": {
    "scrolled": true
   },
   "outputs": [
    {
     "name": "stderr",
     "output_type": "stream",
     "text": [
      "C:\\Users\\Sumeet\\AppData\\Local\\Temp\\ipykernel_12096\\1853394389.py:1: SettingWithCopyWarning: \n",
      "A value is trying to be set on a copy of a slice from a DataFrame.\n",
      "Try using .loc[row_indexer,col_indexer] = value instead\n",
      "\n",
      "See the caveats in the documentation: https://pandas.pydata.org/pandas-docs/stable/user_guide/indexing.html#returning-a-view-versus-a-copy\n",
      "  df1[\"sentiment\"]=df1[\"text\"].apply(detect_sentiment)\n"
     ]
    }
   ],
   "source": [
    "df1[\"sentiment\"]=df1[\"text\"].apply(detect_sentiment)"
   ]
  },
  {
   "cell_type": "code",
   "execution_count": 35,
   "id": "0c6dfa2e",
   "metadata": {
    "scrolled": false
   },
   "outputs": [
    {
     "data": {
      "text/html": [
       "<div>\n",
       "<style scoped>\n",
       "    .dataframe tbody tr th:only-of-type {\n",
       "        vertical-align: middle;\n",
       "    }\n",
       "\n",
       "    .dataframe tbody tr th {\n",
       "        vertical-align: top;\n",
       "    }\n",
       "\n",
       "    .dataframe thead th {\n",
       "        text-align: right;\n",
       "    }\n",
       "</style>\n",
       "<table border=\"1\" class=\"dataframe\">\n",
       "  <thead>\n",
       "    <tr style=\"text-align: right;\">\n",
       "      <th></th>\n",
       "      <th>text</th>\n",
       "      <th>label</th>\n",
       "    </tr>\n",
       "  </thead>\n",
       "  <tbody>\n",
       "    <tr>\n",
       "      <th>0</th>\n",
       "      <td>He said he had not felt that way before, sugge...</td>\n",
       "      <td>1</td>\n",
       "    </tr>\n",
       "    <tr>\n",
       "      <th>1</th>\n",
       "      <td>Hey there r/assistance, Not sure if this is th...</td>\n",
       "      <td>0</td>\n",
       "    </tr>\n",
       "    <tr>\n",
       "      <th>2</th>\n",
       "      <td>My mom then hit me with the newspaper and it s...</td>\n",
       "      <td>1</td>\n",
       "    </tr>\n",
       "    <tr>\n",
       "      <th>3</th>\n",
       "      <td>until i met my new boyfriend, he is amazing, h...</td>\n",
       "      <td>1</td>\n",
       "    </tr>\n",
       "    <tr>\n",
       "      <th>4</th>\n",
       "      <td>October is Domestic Violence Awareness Month a...</td>\n",
       "      <td>1</td>\n",
       "    </tr>\n",
       "  </tbody>\n",
       "</table>\n",
       "</div>"
      ],
      "text/plain": [
       "                                                text  label\n",
       "0  He said he had not felt that way before, sugge...      1\n",
       "1  Hey there r/assistance, Not sure if this is th...      0\n",
       "2  My mom then hit me with the newspaper and it s...      1\n",
       "3  until i met my new boyfriend, he is amazing, h...      1\n",
       "4  October is Domestic Violence Awareness Month a...      1"
      ]
     },
     "execution_count": 35,
     "metadata": {},
     "output_type": "execute_result"
    }
   ],
   "source": [
    "df1.head()"
   ]
  },
  {
   "cell_type": "code",
   "execution_count": 38,
   "id": "531c0372",
   "metadata": {},
   "outputs": [
    {
     "data": {
      "text/plain": [
       " 0.000000    84\n",
       " 0.250000    24\n",
       " 0.100000    23\n",
       " 0.150000    17\n",
       " 0.125000    16\n",
       "             ..\n",
       " 0.200926     1\n",
       "-0.009375     1\n",
       "-0.045833     1\n",
       " 0.244643     1\n",
       " 0.136364     1\n",
       "Name: sentiment, Length: 2627, dtype: int64"
      ]
     },
     "execution_count": 38,
     "metadata": {},
     "output_type": "execute_result"
    }
   ],
   "source": [
    "#checking value counts in sentiment\n",
    "\n",
    "df1.sentiment.value_counts()"
   ]
  },
  {
   "cell_type": "code",
   "execution_count": 33,
   "id": "9d7ef47b",
   "metadata": {},
   "outputs": [],
   "source": [
    "#storing new data into df1\n",
    "\n",
    "df1=df[[\"text\",\"label\"]]"
   ]
  },
  {
   "cell_type": "code",
   "execution_count": 39,
   "id": "9ca06a68",
   "metadata": {
    "scrolled": false
   },
   "outputs": [
    {
     "data": {
      "text/html": [
       "<div>\n",
       "<style scoped>\n",
       "    .dataframe tbody tr th:only-of-type {\n",
       "        vertical-align: middle;\n",
       "    }\n",
       "\n",
       "    .dataframe tbody tr th {\n",
       "        vertical-align: top;\n",
       "    }\n",
       "\n",
       "    .dataframe thead th {\n",
       "        text-align: right;\n",
       "    }\n",
       "</style>\n",
       "<table border=\"1\" class=\"dataframe\">\n",
       "  <thead>\n",
       "    <tr style=\"text-align: right;\">\n",
       "      <th></th>\n",
       "      <th>text</th>\n",
       "      <th>label</th>\n",
       "      <th>sentiment</th>\n",
       "    </tr>\n",
       "  </thead>\n",
       "  <tbody>\n",
       "    <tr>\n",
       "      <th>0</th>\n",
       "      <td>He said he had not felt that way before, sugge...</td>\n",
       "      <td>1</td>\n",
       "      <td>-0.002742</td>\n",
       "    </tr>\n",
       "    <tr>\n",
       "      <th>1</th>\n",
       "      <td>Hey there r/assistance, Not sure if this is th...</td>\n",
       "      <td>0</td>\n",
       "      <td>0.292857</td>\n",
       "    </tr>\n",
       "    <tr>\n",
       "      <th>2</th>\n",
       "      <td>My mom then hit me with the newspaper and it s...</td>\n",
       "      <td>1</td>\n",
       "      <td>0.011894</td>\n",
       "    </tr>\n",
       "    <tr>\n",
       "      <th>3</th>\n",
       "      <td>until i met my new boyfriend, he is amazing, h...</td>\n",
       "      <td>1</td>\n",
       "      <td>0.141671</td>\n",
       "    </tr>\n",
       "    <tr>\n",
       "      <th>4</th>\n",
       "      <td>October is Domestic Violence Awareness Month a...</td>\n",
       "      <td>1</td>\n",
       "      <td>-0.204167</td>\n",
       "    </tr>\n",
       "  </tbody>\n",
       "</table>\n",
       "</div>"
      ],
      "text/plain": [
       "                                                text  label  sentiment\n",
       "0  He said he had not felt that way before, sugge...      1  -0.002742\n",
       "1  Hey there r/assistance, Not sure if this is th...      0   0.292857\n",
       "2  My mom then hit me with the newspaper and it s...      1   0.011894\n",
       "3  until i met my new boyfriend, he is amazing, h...      1   0.141671\n",
       "4  October is Domestic Violence Awareness Month a...      1  -0.204167"
      ]
     },
     "execution_count": 39,
     "metadata": {},
     "output_type": "execute_result"
    }
   ],
   "source": [
    "df1.head()"
   ]
  },
  {
   "cell_type": "code",
   "execution_count": 40,
   "id": "544c8e9a",
   "metadata": {},
   "outputs": [],
   "source": [
    "import nltk\n",
    "import re\n",
    "stemmer = nltk.SnowballStemmer(\"english\")\n",
    "from nltk.corpus import stopwords\n",
    "import string"
   ]
  },
  {
   "cell_type": "code",
   "execution_count": 41,
   "id": "fcaec0af",
   "metadata": {},
   "outputs": [],
   "source": [
    "stopwords = set(stopwords.words(\"english\"))"
   ]
  },
  {
   "cell_type": "code",
   "execution_count": 42,
   "id": "0f61a3f7",
   "metadata": {},
   "outputs": [
    {
     "name": "stderr",
     "output_type": "stream",
     "text": [
      "C:\\Users\\Sumeet\\AppData\\Local\\Temp\\ipykernel_12096\\3462199589.py:16: SettingWithCopyWarning: \n",
      "A value is trying to be set on a copy of a slice from a DataFrame.\n",
      "Try using .loc[row_indexer,col_indexer] = value instead\n",
      "\n",
      "See the caveats in the documentation: https://pandas.pydata.org/pandas-docs/stable/user_guide/indexing.html#returning-a-view-versus-a-copy\n",
      "  df1[\"text\"] = df1[\"text\"].apply(clean)\n"
     ]
    }
   ],
   "source": [
    "#definig a function to clean \n",
    "\n",
    "def clean(text):\n",
    "    text = str(text).lower()\n",
    "    text = re.sub('\\[.*?\\]', '', text)\n",
    "    text = re.sub('https?://\\S+|www\\.\\S+', '', text)\n",
    "    text = re.sub('<.*?>+', '', text)\n",
    "    text = re.sub('[%s]' % re.escape(string.punctuation), '', text)\n",
    "    text = re.sub('\\n', '', text)\n",
    "    text = re.sub('\\w*\\d\\w*', '', text)\n",
    "    text = [word for word in text.split(' ') if word not in stopwords]\n",
    "    text=\" \".join(text)\n",
    "    text = [stemmer.stem(word) for word in text.split(' ')]\n",
    "    text=\" \".join(text)\n",
    "    return text\n",
    "df1[\"text\"] = df1[\"text\"].apply(clean)"
   ]
  },
  {
   "cell_type": "code",
   "execution_count": 46,
   "id": "90ac6a22",
   "metadata": {},
   "outputs": [
    {
     "data": {
      "text/plain": [
       "0       said felt way sugget go rest trigger ahead you...\n",
       "1       hey rassist sure right place post goe  im curr...\n",
       "2       mom hit newspap shock would know dont like pla...\n",
       "3       met new boyfriend amaz kind sweet good student...\n",
       "4       octob domest violenc awar month domest violenc...\n",
       "                              ...                        \n",
       "3548    horribl vivid nightmar everi night sometim the...\n",
       "3549    also cant think without get angri jealous talk...\n",
       "3550    furthermor told got realli serious anxieti dep...\n",
       "3551    here link amazon wish list two item  link does...\n",
       "3552    keep us protect alreadi told unwelcom person l...\n",
       "Name: text, Length: 3530, dtype: object"
      ]
     },
     "execution_count": 46,
     "metadata": {},
     "output_type": "execute_result"
    }
   ],
   "source": [
    "#After cleaning text column\n",
    "\n",
    "df1[\"text\"]"
   ]
  },
  {
   "cell_type": "code",
   "execution_count": 47,
   "id": "92c167a6",
   "metadata": {},
   "outputs": [
    {
     "name": "stdout",
     "output_type": "stream",
     "text": [
      "0\n"
     ]
    }
   ],
   "source": [
    "#checking duplicates\n",
    "\n",
    "duplicates=df1.duplicated().sum()\n",
    "print(duplicates)"
   ]
  },
  {
   "cell_type": "code",
   "execution_count": 48,
   "id": "1948ccc2",
   "metadata": {},
   "outputs": [],
   "source": [
    "df1=df1.drop_duplicates('text')"
   ]
  },
  {
   "cell_type": "code",
   "execution_count": 49,
   "id": "52deefc5",
   "metadata": {},
   "outputs": [],
   "source": [
    "from collections import Counter"
   ]
  },
  {
   "cell_type": "code",
   "execution_count": 50,
   "id": "df4e164d",
   "metadata": {},
   "outputs": [],
   "source": [
    "# Applying loop in text column\n",
    "\n",
    "count=Counter()\n",
    "for text in df1['text'].values:\n",
    "    for word in text.split():\n",
    "        count[word] +=1"
   ]
  },
  {
   "cell_type": "code",
   "execution_count": 51,
   "id": "f933fdc2",
   "metadata": {},
   "outputs": [],
   "source": [
    "#finding the most common words used\n",
    "\n",
    "cw=count.most_common(10)"
   ]
  },
  {
   "cell_type": "code",
   "execution_count": 52,
   "id": "04ce4c07",
   "metadata": {
    "scrolled": true
   },
   "outputs": [
    {
     "data": {
      "text/plain": [
       "[('im', 1710),\n",
       " ('like', 1585),\n",
       " ('feel', 1451),\n",
       " ('get', 1448),\n",
       " ('know', 1174),\n",
       " ('time', 1169),\n",
       " ('go', 1167),\n",
       " ('want', 1038),\n",
       " ('would', 933),\n",
       " ('dont', 925)]"
      ]
     },
     "execution_count": 52,
     "metadata": {},
     "output_type": "execute_result"
    }
   ],
   "source": [
    "cw"
   ]
  },
  {
   "cell_type": "code",
   "execution_count": 53,
   "id": "f6baac1f",
   "metadata": {},
   "outputs": [
    {
     "data": {
      "text/html": [
       "<div>\n",
       "<style scoped>\n",
       "    .dataframe tbody tr th:only-of-type {\n",
       "        vertical-align: middle;\n",
       "    }\n",
       "\n",
       "    .dataframe tbody tr th {\n",
       "        vertical-align: top;\n",
       "    }\n",
       "\n",
       "    .dataframe thead th {\n",
       "        text-align: right;\n",
       "    }\n",
       "</style>\n",
       "<table border=\"1\" class=\"dataframe\">\n",
       "  <thead>\n",
       "    <tr style=\"text-align: right;\">\n",
       "      <th></th>\n",
       "      <th>word</th>\n",
       "      <th>count</th>\n",
       "    </tr>\n",
       "  </thead>\n",
       "  <tbody>\n",
       "    <tr>\n",
       "      <th>0</th>\n",
       "      <td>im</td>\n",
       "      <td>1710</td>\n",
       "    </tr>\n",
       "    <tr>\n",
       "      <th>1</th>\n",
       "      <td>like</td>\n",
       "      <td>1585</td>\n",
       "    </tr>\n",
       "    <tr>\n",
       "      <th>2</th>\n",
       "      <td>feel</td>\n",
       "      <td>1451</td>\n",
       "    </tr>\n",
       "    <tr>\n",
       "      <th>3</th>\n",
       "      <td>get</td>\n",
       "      <td>1448</td>\n",
       "    </tr>\n",
       "    <tr>\n",
       "      <th>4</th>\n",
       "      <td>know</td>\n",
       "      <td>1174</td>\n",
       "    </tr>\n",
       "  </tbody>\n",
       "</table>\n",
       "</div>"
      ],
      "text/plain": [
       "   word  count\n",
       "0    im   1710\n",
       "1  like   1585\n",
       "2  feel   1451\n",
       "3   get   1448\n",
       "4  know   1174"
      ]
     },
     "execution_count": 53,
     "metadata": {},
     "output_type": "execute_result"
    }
   ],
   "source": [
    "#making data frame of common words\n",
    "\n",
    "cw= pd.DataFrame(count.most_common(15))\n",
    "cw.columns = ['word','count']\n",
    "cw.head()"
   ]
  },
  {
   "cell_type": "code",
   "execution_count": null,
   "id": "05df01f0",
   "metadata": {},
   "outputs": [],
   "source": [
    "#plotting horizontal bar plot on most of common words\n",
    "\n",
    "cw.plot(kind='barh',x='word',y='count', color=\"green\")\n",
    "plt.show()"
   ]
  },
  {
   "cell_type": "code",
   "execution_count": 54,
   "id": "39d7ddd1",
   "metadata": {},
   "outputs": [],
   "source": [
    "#Dropping sentiment column\n",
    "\n",
    "df1.drop('sentiment', axis=1, inplace=True)"
   ]
  },
  {
   "cell_type": "code",
   "execution_count": 55,
   "id": "2e127f35",
   "metadata": {
    "scrolled": true
   },
   "outputs": [
    {
     "data": {
      "text/html": [
       "<div>\n",
       "<style scoped>\n",
       "    .dataframe tbody tr th:only-of-type {\n",
       "        vertical-align: middle;\n",
       "    }\n",
       "\n",
       "    .dataframe tbody tr th {\n",
       "        vertical-align: top;\n",
       "    }\n",
       "\n",
       "    .dataframe thead th {\n",
       "        text-align: right;\n",
       "    }\n",
       "</style>\n",
       "<table border=\"1\" class=\"dataframe\">\n",
       "  <thead>\n",
       "    <tr style=\"text-align: right;\">\n",
       "      <th></th>\n",
       "      <th>text</th>\n",
       "      <th>label</th>\n",
       "    </tr>\n",
       "  </thead>\n",
       "  <tbody>\n",
       "    <tr>\n",
       "      <th>0</th>\n",
       "      <td>said felt way sugget go rest trigger ahead you...</td>\n",
       "      <td>1</td>\n",
       "    </tr>\n",
       "    <tr>\n",
       "      <th>1</th>\n",
       "      <td>hey rassist sure right place post goe  im curr...</td>\n",
       "      <td>0</td>\n",
       "    </tr>\n",
       "    <tr>\n",
       "      <th>2</th>\n",
       "      <td>mom hit newspap shock would know dont like pla...</td>\n",
       "      <td>1</td>\n",
       "    </tr>\n",
       "    <tr>\n",
       "      <th>3</th>\n",
       "      <td>met new boyfriend amaz kind sweet good student...</td>\n",
       "      <td>1</td>\n",
       "    </tr>\n",
       "    <tr>\n",
       "      <th>4</th>\n",
       "      <td>octob domest violenc awar month domest violenc...</td>\n",
       "      <td>1</td>\n",
       "    </tr>\n",
       "  </tbody>\n",
       "</table>\n",
       "</div>"
      ],
      "text/plain": [
       "                                                text  label\n",
       "0  said felt way sugget go rest trigger ahead you...      1\n",
       "1  hey rassist sure right place post goe  im curr...      0\n",
       "2  mom hit newspap shock would know dont like pla...      1\n",
       "3  met new boyfriend amaz kind sweet good student...      1\n",
       "4  octob domest violenc awar month domest violenc...      1"
      ]
     },
     "execution_count": 55,
     "metadata": {},
     "output_type": "execute_result"
    }
   ],
   "source": [
    "df1.head()"
   ]
  },
  {
   "cell_type": "code",
   "execution_count": 56,
   "id": "d6d9661e",
   "metadata": {
    "scrolled": false
   },
   "outputs": [
    {
     "data": {
      "text/plain": [
       "<AxesSubplot:xlabel='label', ylabel='count'>"
      ]
     },
     "execution_count": 56,
     "metadata": {},
     "output_type": "execute_result"
    },
    {
     "data": {
      "image/png": "[encoded data removed]",
      "text/plain": [
       "<Figure size 432x288 with 1 Axes>"
      ]
     },
     "metadata": {},
     "output_type": "display_data"
    }
   ],
   "source": [
    "#Count plot of stress=1 and no stress=0 \n",
    "\n",
    "sns.countplot(x=df1.label)"
   ]
  },
  {
   "cell_type": "markdown",
   "id": "dca7d93b",
   "metadata": {},
   "source": [
    " # DATA MODELLING"
   ]
  },
  {
   "cell_type": "code",
   "execution_count": 57,
   "id": "c0e37bad",
   "metadata": {},
   "outputs": [],
   "source": [
    "#defining x and y\n",
    "\n",
    "y=df1['label']\n",
    "x=df1['text']"
   ]
  },
  {
   "cell_type": "code",
   "execution_count": 58,
   "id": "b3f99d7d",
   "metadata": {},
   "outputs": [],
   "source": [
    "from sklearn.feature_extraction.text import CountVectorizer, TfidfVectorizer\n",
    "from sklearn.model_selection import train_test_split\n",
    "from sklearn.naive_bayes import MultinomialNB\n",
    "from sklearn.metrics import accuracy_score\n",
    "from sklearn.metrics import classification_report"
   ]
  },
  {
   "cell_type": "markdown",
   "id": "962d4d6a",
   "metadata": {},
   "source": [
    "# BAG OF WORDS"
   ]
  },
  {
   "cell_type": "code",
   "execution_count": 59,
   "id": "46f2c6ac",
   "metadata": {},
   "outputs": [],
   "source": [
    "vect= CountVectorizer()"
   ]
  },
  {
   "cell_type": "code",
   "execution_count": 60,
   "id": "e1185a69",
   "metadata": {},
   "outputs": [],
   "source": [
    "x=vect.fit_transform(df1[\"text\"])"
   ]
  },
  {
   "cell_type": "code",
   "execution_count": 61,
   "id": "9015e8c4",
   "metadata": {
    "scrolled": true
   },
   "outputs": [
    {
     "data": {
      "text/html": [
       "<div>\n",
       "<style scoped>\n",
       "    .dataframe tbody tr th:only-of-type {\n",
       "        vertical-align: middle;\n",
       "    }\n",
       "\n",
       "    .dataframe tbody tr th {\n",
       "        vertical-align: top;\n",
       "    }\n",
       "\n",
       "    .dataframe thead th {\n",
       "        text-align: right;\n",
       "    }\n",
       "</style>\n",
       "<table border=\"1\" class=\"dataframe\">\n",
       "  <thead>\n",
       "    <tr style=\"text-align: right;\">\n",
       "      <th></th>\n",
       "      <th>text</th>\n",
       "      <th>label</th>\n",
       "    </tr>\n",
       "  </thead>\n",
       "  <tbody>\n",
       "    <tr>\n",
       "      <th>0</th>\n",
       "      <td>said felt way sugget go rest trigger ahead you...</td>\n",
       "      <td>1</td>\n",
       "    </tr>\n",
       "    <tr>\n",
       "      <th>1</th>\n",
       "      <td>hey rassist sure right place post goe  im curr...</td>\n",
       "      <td>0</td>\n",
       "    </tr>\n",
       "    <tr>\n",
       "      <th>2</th>\n",
       "      <td>mom hit newspap shock would know dont like pla...</td>\n",
       "      <td>1</td>\n",
       "    </tr>\n",
       "    <tr>\n",
       "      <th>3</th>\n",
       "      <td>met new boyfriend amaz kind sweet good student...</td>\n",
       "      <td>1</td>\n",
       "    </tr>\n",
       "    <tr>\n",
       "      <th>4</th>\n",
       "      <td>octob domest violenc awar month domest violenc...</td>\n",
       "      <td>1</td>\n",
       "    </tr>\n",
       "  </tbody>\n",
       "</table>\n",
       "</div>"
      ],
      "text/plain": [
       "                                                text  label\n",
       "0  said felt way sugget go rest trigger ahead you...      1\n",
       "1  hey rassist sure right place post goe  im curr...      0\n",
       "2  mom hit newspap shock would know dont like pla...      1\n",
       "3  met new boyfriend amaz kind sweet good student...      1\n",
       "4  octob domest violenc awar month domest violenc...      1"
      ]
     },
     "execution_count": 61,
     "metadata": {},
     "output_type": "execute_result"
    }
   ],
   "source": [
    "df1.head()"
   ]
  },
  {
   "cell_type": "markdown",
   "id": "9d83e2ef",
   "metadata": {},
   "source": [
    "# NAIVE BAYES"
   ]
  },
  {
   "cell_type": "code",
   "execution_count": 62,
   "id": "3c964d87",
   "metadata": {},
   "outputs": [],
   "source": [
    "x_train,x_test,y_train,y_test=train_test_split(x,y,random_state=43,test_size=0.3)"
   ]
  },
  {
   "cell_type": "code",
   "execution_count": 63,
   "id": "0155f5f4",
   "metadata": {},
   "outputs": [],
   "source": [
    "nb=MultinomialNB()"
   ]
  },
  {
   "cell_type": "code",
   "execution_count": 64,
   "id": "ac4ceabc",
   "metadata": {},
   "outputs": [
    {
     "data": {
      "text/plain": [
       "MultinomialNB()"
      ]
     },
     "execution_count": 64,
     "metadata": {},
     "output_type": "execute_result"
    }
   ],
   "source": [
    "nb.fit(x_train,y_train)"
   ]
  },
  {
   "cell_type": "code",
   "execution_count": 65,
   "id": "2557eeb3",
   "metadata": {},
   "outputs": [],
   "source": [
    "y_pred=nb.predict(x_test)"
   ]
  },
  {
   "cell_type": "code",
   "execution_count": 66,
   "id": "a444af35",
   "metadata": {},
   "outputs": [
    {
     "name": "stdout",
     "output_type": "stream",
     "text": [
      "              precision    recall  f1-score   support\n",
      "\n",
      "           0       0.80      0.63      0.71       500\n",
      "           1       0.72      0.86      0.79       559\n",
      "\n",
      "    accuracy                           0.75      1059\n",
      "   macro avg       0.76      0.75      0.75      1059\n",
      "weighted avg       0.76      0.75      0.75      1059\n",
      "\n"
     ]
    }
   ],
   "source": [
    "print(classification_report(y_test,y_pred))"
   ]
  },
  {
   "cell_type": "code",
   "execution_count": 67,
   "id": "59cea134",
   "metadata": {},
   "outputs": [],
   "source": [
    "from sklearn.metrics import confusion_matrix"
   ]
  },
  {
   "cell_type": "code",
   "execution_count": 68,
   "id": "754d1948",
   "metadata": {},
   "outputs": [
    {
     "data": {
      "text/plain": [
       "array([[315, 185],\n",
       "       [ 78, 481]], dtype=int64)"
      ]
     },
     "execution_count": 68,
     "metadata": {},
     "output_type": "execute_result"
    }
   ],
   "source": [
    "confusion_matrix(y_test,y_pred)"
   ]
  },
  {
   "cell_type": "code",
   "execution_count": 69,
   "id": "cb4359bc",
   "metadata": {},
   "outputs": [
    {
     "data": {
      "text/plain": [
       "0.7516525023607177"
      ]
     },
     "execution_count": 69,
     "metadata": {},
     "output_type": "execute_result"
    }
   ],
   "source": [
    "(315+481)/1059"
   ]
  },
  {
   "cell_type": "markdown",
   "id": "43576f93",
   "metadata": {},
   "source": [
    "# Tfid"
   ]
  },
  {
   "cell_type": "code",
   "execution_count": 70,
   "id": "ad2086a5",
   "metadata": {},
   "outputs": [],
   "source": [
    "vect= TfidfVectorizer()\n",
    "X=vect.fit_transform(df1['text'])\n",
    "x_train, x_test, y_train, y_test = train_test_split(x,y, test_size=0.3, random_state = 43)"
   ]
  },
  {
   "cell_type": "code",
   "execution_count": 71,
   "id": "e9e90dcb",
   "metadata": {
    "scrolled": true
   },
   "outputs": [
    {
     "data": {
      "text/html": [
       "<div>\n",
       "<style scoped>\n",
       "    .dataframe tbody tr th:only-of-type {\n",
       "        vertical-align: middle;\n",
       "    }\n",
       "\n",
       "    .dataframe tbody tr th {\n",
       "        vertical-align: top;\n",
       "    }\n",
       "\n",
       "    .dataframe thead th {\n",
       "        text-align: right;\n",
       "    }\n",
       "</style>\n",
       "<table border=\"1\" class=\"dataframe\">\n",
       "  <thead>\n",
       "    <tr style=\"text-align: right;\">\n",
       "      <th></th>\n",
       "      <th>text</th>\n",
       "      <th>label</th>\n",
       "    </tr>\n",
       "  </thead>\n",
       "  <tbody>\n",
       "    <tr>\n",
       "      <th>0</th>\n",
       "      <td>said felt way sugget go rest trigger ahead you...</td>\n",
       "      <td>1</td>\n",
       "    </tr>\n",
       "    <tr>\n",
       "      <th>1</th>\n",
       "      <td>hey rassist sure right place post goe  im curr...</td>\n",
       "      <td>0</td>\n",
       "    </tr>\n",
       "    <tr>\n",
       "      <th>2</th>\n",
       "      <td>mom hit newspap shock would know dont like pla...</td>\n",
       "      <td>1</td>\n",
       "    </tr>\n",
       "    <tr>\n",
       "      <th>3</th>\n",
       "      <td>met new boyfriend amaz kind sweet good student...</td>\n",
       "      <td>1</td>\n",
       "    </tr>\n",
       "    <tr>\n",
       "      <th>4</th>\n",
       "      <td>octob domest violenc awar month domest violenc...</td>\n",
       "      <td>1</td>\n",
       "    </tr>\n",
       "  </tbody>\n",
       "</table>\n",
       "</div>"
      ],
      "text/plain": [
       "                                                text  label\n",
       "0  said felt way sugget go rest trigger ahead you...      1\n",
       "1  hey rassist sure right place post goe  im curr...      0\n",
       "2  mom hit newspap shock would know dont like pla...      1\n",
       "3  met new boyfriend amaz kind sweet good student...      1\n",
       "4  octob domest violenc awar month domest violenc...      1"
      ]
     },
     "execution_count": 71,
     "metadata": {},
     "output_type": "execute_result"
    }
   ],
   "source": [
    "df1.head()"
   ]
  },
  {
   "cell_type": "markdown",
   "id": "3a563dac",
   "metadata": {},
   "source": [
    "# SUPPORT VECTOR CLASSIFIER"
   ]
  },
  {
   "cell_type": "code",
   "execution_count": 72,
   "id": "28d2ec8d",
   "metadata": {},
   "outputs": [],
   "source": [
    "from sklearn.svm import LinearSVC\n",
    "from sklearn.model_selection import GridSearchCV"
   ]
  },
  {
   "cell_type": "code",
   "execution_count": 73,
   "id": "5fe0955d",
   "metadata": {},
   "outputs": [
    {
     "name": "stdout",
     "output_type": "stream",
     "text": [
      "68.55524079320114\n"
     ]
    }
   ],
   "source": [
    "model4tfidf=LinearSVC()\n",
    "model4tfidf.fit(x_train,y_train)\n",
    "model4tfidf_predict=model4tfidf.predict(x_test)\n",
    "model4tfidf_acc= accuracy_score(model4tfidf_predict, y_test)\n",
    "print(model4tfidf_acc*100)"
   ]
  },
  {
   "cell_type": "code",
   "execution_count": 74,
   "id": "b060b693",
   "metadata": {
    "scrolled": true
   },
   "outputs": [
    {
     "name": "stdout",
     "output_type": "stream",
     "text": [
      "Fitting 5 folds for each of 6 candidates, totalling 30 fits\n",
      "[CV 1/5] END ...................C=1, loss=hinge;, score=0.695 total time=   0.0s\n",
      "[CV 2/5] END ...................C=1, loss=hinge;, score=0.715 total time=   0.1s\n",
      "[CV 3/5] END ...................C=1, loss=hinge;, score=0.694 total time=   0.0s\n",
      "[CV 4/5] END ...................C=1, loss=hinge;, score=0.713 total time=   0.0s\n",
      "[CV 5/5] END ...................C=1, loss=hinge;, score=0.698 total time=   0.0s\n",
      "[CV 1/5] END ...........C=1, loss=squared_hinge;, score=0.687 total time=   0.0s\n",
      "[CV 2/5] END ...........C=1, loss=squared_hinge;, score=0.717 total time=   0.0s\n",
      "[CV 3/5] END ...........C=1, loss=squared_hinge;, score=0.702 total time=   0.0s\n",
      "[CV 4/5] END ...........C=1, loss=squared_hinge;, score=0.713 total time=   0.0s\n",
      "[CV 5/5] END ...........C=1, loss=squared_hinge;, score=0.709 total time=   0.0s\n",
      "[CV 1/5] END ..................C=10, loss=hinge;, score=0.695 total time=   0.1s\n",
      "[CV 2/5] END ..................C=10, loss=hinge;, score=0.709 total time=   0.0s\n",
      "[CV 3/5] END ..................C=10, loss=hinge;, score=0.692 total time=   0.0s\n",
      "[CV 4/5] END ..................C=10, loss=hinge;, score=0.717 total time=   0.0s\n",
      "[CV 5/5] END ..................C=10, loss=hinge;, score=0.704 total time=   0.0s\n",
      "[CV 1/5] END ..........C=10, loss=squared_hinge;, score=0.695 total time=   0.0s\n",
      "[CV 2/5] END ..........C=10, loss=squared_hinge;, score=0.713 total time=   0.0s\n",
      "[CV 3/5] END ..........C=10, loss=squared_hinge;, score=0.692 total time=   0.0s\n",
      "[CV 4/5] END ..........C=10, loss=squared_hinge;, score=0.719 total time=   0.1s\n",
      "[CV 5/5] END ..........C=10, loss=squared_hinge;, score=0.704 total time=   0.0s\n",
      "[CV 1/5] END .................C=100, loss=hinge;, score=0.695 total time=   0.0s\n",
      "[CV 2/5] END .................C=100, loss=hinge;, score=0.709 total time=   0.0s\n",
      "[CV 3/5] END .................C=100, loss=hinge;, score=0.692 total time=   0.1s\n",
      "[CV 4/5] END .................C=100, loss=hinge;, score=0.717 total time=   0.0s\n",
      "[CV 5/5] END .................C=100, loss=hinge;, score=0.704 total time=   0.0s\n",
      "[CV 1/5] END .........C=100, loss=squared_hinge;, score=0.695 total time=   0.0s\n",
      "[CV 2/5] END .........C=100, loss=squared_hinge;, score=0.709 total time=   0.0s\n",
      "[CV 3/5] END .........C=100, loss=squared_hinge;, score=0.692 total time=   0.0s\n",
      "[CV 4/5] END .........C=100, loss=squared_hinge;, score=0.717 total time=   0.0s\n",
      "[CV 5/5] END .........C=100, loss=squared_hinge;, score=0.704 total time=   0.0s\n"
     ]
    },
    {
     "data": {
      "text/plain": [
       "GridSearchCV(estimator=LinearSVC(),\n",
       "             param_grid={'C': [1, 10, 100], 'loss': ['hinge', 'squared_hinge']},\n",
       "             verbose=3)"
      ]
     },
     "execution_count": 74,
     "metadata": {},
     "output_type": "execute_result"
    }
   ],
   "source": [
    "#Hyperparameter tuning\n",
    "\n",
    "param_grid = { 'C':[1, 10, 100],\n",
    "              \n",
    "              'loss':['hinge', 'squared_hinge']} \n",
    "grid= GridSearchCV(model4tfidf, param_grid, refit=True, verbose=3)\n",
    "grid.fit(x_train, y_train)"
   ]
  },
  {
   "cell_type": "code",
   "execution_count": null,
   "id": "27869f29",
   "metadata": {},
   "outputs": [],
   "source": [
    "print(\"best CV score: {:2f}\".format(grid.best_score_))\n",
    "print(\"best parameters: \", grid.best_params_)"
   ]
  },
  {
   "cell_type": "code",
   "execution_count": 75,
   "id": "15ecd20a",
   "metadata": {},
   "outputs": [
    {
     "name": "stdout",
     "output_type": "stream",
     "text": [
      "67.51652502360717\n"
     ]
    }
   ],
   "source": [
    "model4tfidf=LinearSVC(C=1, loss='hinge')\n",
    "model4tfidf.fit(x_train,y_train)\n",
    "model4tfidf_predict=model4tfidf.predict(x_test)\n",
    "model4tfidf_acc= accuracy_score(model4tfidf_predict, y_test)\n",
    "print(model4tfidf_acc*100)"
   ]
  },
  {
   "cell_type": "markdown",
   "id": "cc1cf7de",
   "metadata": {},
   "source": [
    "# LOGISTIC REGRESSION"
   ]
  },
  {
   "cell_type": "code",
   "execution_count": 76,
   "id": "22c0107b",
   "metadata": {},
   "outputs": [],
   "source": [
    "from sklearn.linear_model import LogisticRegression"
   ]
  },
  {
   "cell_type": "code",
   "execution_count": 77,
   "id": "d6ea4d16",
   "metadata": {},
   "outputs": [],
   "source": [
    "vect= TfidfVectorizer()\n",
    "x=vect.fit_transform(df1['text'])\n",
    "x_train, x_test, y_train, y_test = train_test_split(x,y, test_size=0.3, random_state = 43)"
   ]
  },
  {
   "cell_type": "code",
   "execution_count": 78,
   "id": "0eb906e2",
   "metadata": {},
   "outputs": [
    {
     "name": "stdout",
     "output_type": "stream",
     "text": [
      "75.2596789423985\n"
     ]
    }
   ],
   "source": [
    "model1bow=LogisticRegression()\n",
    "model1bow.fit(x_train,y_train)\n",
    "model1bow_predict=model1bow.predict(x_test)\n",
    "model1bow_acc= accuracy_score(model1bow_predict, y_test)\n",
    "print(model1bow_acc*100)"
   ]
  },
  {
   "cell_type": "markdown",
   "id": "aaa907eb",
   "metadata": {},
   "source": [
    "# RANDOM FOREST CLASSIFIER"
   ]
  },
  {
   "cell_type": "code",
   "execution_count": 79,
   "id": "1d792364",
   "metadata": {},
   "outputs": [],
   "source": [
    "from sklearn.ensemble import RandomForestClassifier"
   ]
  },
  {
   "cell_type": "code",
   "execution_count": 80,
   "id": "ef64ebc8",
   "metadata": {},
   "outputs": [],
   "source": [
    "model2w2v=RandomForestClassifier()"
   ]
  },
  {
   "cell_type": "code",
   "execution_count": 81,
   "id": "4f17f8fd",
   "metadata": {},
   "outputs": [
    {
     "name": "stdout",
     "output_type": "stream",
     "text": [
      "70.82152974504248\n"
     ]
    }
   ],
   "source": [
    "model2w2v.fit(x_train,y_train)\n",
    "model2w2v_predict=model2w2v.predict(x_test)\n",
    "model2w2v_acc= accuracy_score(model2w2v_predict, y_test)\n",
    "print(model2w2v_acc*100)"
   ]
  },
  {
   "cell_type": "code",
   "execution_count": null,
   "id": "c5a3e0ce",
   "metadata": {},
   "outputs": [],
   "source": []
  },
  {
   "cell_type": "code",
   "execution_count": null,
   "id": "841022f4",
   "metadata": {},
   "outputs": [],
   "source": [
    "#file converted to csv for dashboard\n",
    "\n",
    "cw.to_csv('cw.csv', index=False)"
   ]
  },
  {
   "cell_type": "code",
   "execution_count": null,
   "id": "8f102275",
   "metadata": {},
   "outputs": [],
   "source": [
    "s.to_csv('s.csv', index=False)"
   ]
  },
  {
   "cell_type": "code",
   "execution_count": null,
   "id": "56917ec2",
   "metadata": {},
   "outputs": [],
   "source": [
    "df1.label.to_csv('df1.label.csv', index=False)"
   ]
  },
  {
   "cell_type": "code",
   "execution_count": null,
   "id": "a93bb38d",
   "metadata": {},
   "outputs": [],
   "source": [
    "#test random sentences "
   ]
  },
  {
   "cell_type": "code",
   "execution_count": null,
   "id": "a9b11bc1",
   "metadata": {},
   "outputs": [],
   "source": [
    "user=\"i a feeling good\"\n",
    "df1=vect.transform([user]).toarray()\n",
    "output=model1bow.predict(df1)\n",
    "print(output)"
   ]
  },
  {
   "cell_type": "code",
   "execution_count": null,
   "id": "7d86b0b5",
   "metadata": {},
   "outputs": [],
   "source": []
  }
 ],
 "metadata": {
  "kernelspec": {
   "display_name": "Python 3 (ipykernel)",
   "language": "python",
   "name": "python3"
  },
  "language_info": {
   "codemirror_mode": {
    "name": "ipython",
    "version": 3
   },
   "file_extension": ".py",
   "mimetype": "text/x-python",
   "name": "python",
   "nbconvert_exporter": "python",
   "pygments_lexer": "ipython3",
   "version": "3.9.12"
  }
 },
 "nbformat": 4,
 "nbformat_minor": 5
}
